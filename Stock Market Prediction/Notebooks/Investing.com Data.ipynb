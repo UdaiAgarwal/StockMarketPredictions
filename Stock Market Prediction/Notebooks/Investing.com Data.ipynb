{
 "cells": [
  {
   "cell_type": "markdown",
   "metadata": {},
   "source": [
    "### Invest py"
   ]
  },
  {
   "cell_type": "code",
   "execution_count": 2,
   "metadata": {},
   "outputs": [],
   "source": [
    "import investpy"
   ]
  },
  {
   "cell_type": "code",
   "execution_count": 30,
   "metadata": {},
   "outputs": [],
   "source": [
    "search_result = investpy.search_quotes(text=\"ITC\", products =[\"stocks\"], countries=[\"india\"], n_results = 1)"
   ]
  },
  {
   "cell_type": "code",
   "execution_count": 31,
   "metadata": {},
   "outputs": [
    {
     "name": "stdout",
     "output_type": "stream",
     "text": [
      "{\"id_\": 18224, \"name\": \"ITC Ltd\", \"symbol\": \"ITC\", \"country\": \"india\", \"tag\": \"/equities/itc\", \"pair_type\": \"stocks\", \"exchange\": \"NSE\"}\n"
     ]
    }
   ],
   "source": [
    "print(search_result)"
   ]
  },
  {
   "cell_type": "code",
   "execution_count": 32,
   "metadata": {},
   "outputs": [],
   "source": [
    "historical_data = search_result.retrieve_historical_data(from_date='01/01/2019',\n",
    "                                                       to_date = '01/01/2021')"
   ]
  },
  {
   "cell_type": "code",
   "execution_count": 33,
   "metadata": {},
   "outputs": [
    {
     "name": "stdout",
     "output_type": "stream",
     "text": [
      "              Open    High     Low   Close   Volume  Change Pct\n",
      "Date                                                           \n",
      "2019-01-01  282.20  283.55  279.80  282.70  2490548        0.37\n",
      "2019-01-02  282.25  283.25  277.55  280.60  9934187       -0.74\n",
      "2019-01-03  280.60  282.45  277.75  278.85  6114946       -0.62\n",
      "2019-01-04  279.15  282.95  279.15  280.95  7805148        0.75\n",
      "2019-01-07  284.30  285.25  281.00  281.65  9757529        0.25\n"
     ]
    }
   ],
   "source": [
    "print(historical_data.head())"
   ]
  },
  {
   "cell_type": "code",
   "execution_count": 34,
   "metadata": {},
   "outputs": [
    {
     "name": "stdout",
     "output_type": "stream",
     "text": [
      "              indicator           signal     value\n",
      "0               RSI(14)              buy   67.9220\n",
      "1            STOCH(9,6)              buy   56.0310\n",
      "2          STOCHRSI(14)       overbought  100.0000\n",
      "3           MACD(12,26)              buy    0.4400\n",
      "4               ADX(14)              buy   30.1090\n",
      "5           Williams %R       overbought   -9.4490\n",
      "6               CCI(14)              buy  174.9560\n",
      "7               ATR(14)  high_volatility    2.9286\n",
      "8        Highs/Lows(14)              buy    6.0679\n",
      "9   Ultimate Oscillator              buy   53.7460\n",
      "10                  ROC              buy    4.9410\n",
      "11  Bull/Bear Power(13)              buy    7.6760\n"
     ]
    }
   ],
   "source": [
    "technical_indicators = search_result.retrieve_technical_indicators(interval=\"daily\")\n",
    "print(technical_indicators)"
   ]
  },
  {
   "cell_type": "code",
   "execution_count": 35,
   "metadata": {},
   "outputs": [
    {
     "name": "stdout",
     "output_type": "stream",
     "text": [
      "{'prevClose': 207, 'dailyRange': '206.5-213.6', 'revenue': 531549999999.99994, 'open': 207, 'weekRange': '163.35-239.2', 'eps': 10.7, 'volume': 44501066, 'marketCap': 2610000000000, 'dividend': '10.75(5.19%)', 'avgVolume': 12778347, 'ratio': 19.85, 'beta': 0.74, 'oneYearReturn': '44.09%', 'sharesOutstanding': 12308844231, 'nextEarningDate': '22/10/2021'}\n"
     ]
    }
   ],
   "source": [
    "print(search_result.retrieve_information())"
   ]
  },
  {
   "cell_type": "code",
   "execution_count": 36,
   "metadata": {},
   "outputs": [
    {
     "name": "stdout",
     "output_type": "stream",
     "text": [
      "             Open   High     Low   Close    Volume  Change Pct\n",
      "Date                                                          \n",
      "2021-06-25  204.0  205.6  203.75  205.05  13877208        0.89\n",
      "2021-06-28  205.9  205.9  203.35  203.60  14627153       -0.71\n",
      "2021-06-29  203.6  205.3  203.15  203.30  13326068       -0.15\n",
      "2021-06-30  204.3  204.4  202.55  202.70  15942408       -0.30\n",
      "2021-07-01  202.9  203.8  202.15  203.00  10191296        0.15\n",
      "(20, 6)\n"
     ]
    }
   ],
   "source": [
    "recent_data = search_result.retrieve_recent_data()\n",
    "print(recent_data.head())\n",
    "print(recent_data.shape)"
   ]
  },
  {
   "cell_type": "markdown",
   "metadata": {},
   "source": [
    "---"
   ]
  },
  {
   "cell_type": "code",
   "execution_count": 1,
   "metadata": {},
   "outputs": [
    {
     "ename": "NameError",
     "evalue": "name 'investpy' is not defined",
     "output_type": "error",
     "traceback": [
      "\u001b[1;31m---------------------------------------------------------------------------\u001b[0m",
      "\u001b[1;31mNameError\u001b[0m                                 Traceback (most recent call last)",
      "\u001b[1;32m<ipython-input-1-5fd76155982e>\u001b[0m in \u001b[0;36m<module>\u001b[1;34m\u001b[0m\n\u001b[0;32m      1\u001b[0m \u001b[1;31m# SEarching for evernts\u001b[0m\u001b[1;33m\u001b[0m\u001b[1;33m\u001b[0m\u001b[1;33m\u001b[0m\u001b[0m\n\u001b[1;32m----> 2\u001b[1;33m \u001b[0minvestpy\u001b[0m\u001b[1;33m.\u001b[0m\u001b[0msearch\u001b[0m\u001b[1;33m.\u001b[0m\u001b[0msearch_events\u001b[0m\u001b[1;33m(\u001b[0m\u001b[0mtext\u001b[0m\u001b[1;33m=\u001b[0m \u001b[1;34m\"surge\"\u001b[0m\u001b[1;33m,\u001b[0m \u001b[0mcountries\u001b[0m \u001b[1;33m=\u001b[0m \u001b[1;33m[\u001b[0m\u001b[1;34m\"india\"\u001b[0m\u001b[1;33m]\u001b[0m\u001b[1;33m,\u001b[0m \u001b[0mn_results\u001b[0m \u001b[1;33m=\u001b[0m \u001b[1;36m100\u001b[0m\u001b[1;33m)\u001b[0m\u001b[1;33m\u001b[0m\u001b[1;33m\u001b[0m\u001b[0m\n\u001b[0m",
      "\u001b[1;31mNameError\u001b[0m: name 'investpy' is not defined"
     ]
    }
   ],
   "source": []
  },
  {
   "cell_type": "code",
   "execution_count": null,
   "metadata": {},
   "outputs": [],
   "source": []
  }
 ],
 "metadata": {
  "kernelspec": {
   "display_name": "Python 3",
   "language": "python",
   "name": "python3"
  },
  "language_info": {
   "codemirror_mode": {
    "name": "ipython",
    "version": 3
   },
   "file_extension": ".py",
   "mimetype": "text/x-python",
   "name": "python",
   "nbconvert_exporter": "python",
   "pygments_lexer": "ipython3",
   "version": "3.8.3"
  }
 },
 "nbformat": 4,
 "nbformat_minor": 4
}
